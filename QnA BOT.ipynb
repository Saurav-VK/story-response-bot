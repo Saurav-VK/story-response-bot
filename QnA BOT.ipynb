{
 "cells": [
  {
   "cell_type": "code",
   "execution_count": 1,
   "id": "48389ff9",
   "metadata": {},
   "outputs": [],
   "source": [
    "import pickle"
   ]
  },
  {
   "cell_type": "code",
   "execution_count": 2,
   "id": "4f8672bf",
   "metadata": {},
   "outputs": [],
   "source": [
    "with open('train_qa.txt' , 'rb') as f:\n",
    "    train_data = pickle.load(f)"
   ]
  },
  {
   "cell_type": "code",
   "execution_count": 3,
   "id": "a3dbdb98",
   "metadata": {},
   "outputs": [],
   "source": [
    "with open('test_qa.txt' , 'rb') as f:\n",
    "    test_data = pickle.load(f)"
   ]
  },
  {
   "cell_type": "code",
   "execution_count": 4,
   "id": "a43495c2",
   "metadata": {},
   "outputs": [
    {
     "data": {
      "text/plain": [
       "list"
      ]
     },
     "execution_count": 4,
     "metadata": {},
     "output_type": "execute_result"
    }
   ],
   "source": [
    "type(train_data)"
   ]
  },
  {
   "cell_type": "code",
   "execution_count": 5,
   "id": "c2e9824d",
   "metadata": {},
   "outputs": [
    {
     "data": {
      "text/plain": [
       "10000"
      ]
     },
     "execution_count": 5,
     "metadata": {},
     "output_type": "execute_result"
    }
   ],
   "source": [
    "len(train_data)"
   ]
  },
  {
   "cell_type": "code",
   "execution_count": 6,
   "id": "5a63771f",
   "metadata": {},
   "outputs": [
    {
     "data": {
      "text/plain": [
       "list"
      ]
     },
     "execution_count": 6,
     "metadata": {},
     "output_type": "execute_result"
    }
   ],
   "source": [
    "type(test_data)"
   ]
  },
  {
   "cell_type": "code",
   "execution_count": 7,
   "id": "f12c6de6",
   "metadata": {},
   "outputs": [
    {
     "data": {
      "text/plain": [
       "1000"
      ]
     },
     "execution_count": 7,
     "metadata": {},
     "output_type": "execute_result"
    }
   ],
   "source": [
    "len(test_data)"
   ]
  },
  {
   "cell_type": "code",
   "execution_count": 8,
   "id": "9a80fcdb",
   "metadata": {},
   "outputs": [
    {
     "data": {
      "text/plain": [
       "(['Mary',\n",
       "  'moved',\n",
       "  'to',\n",
       "  'the',\n",
       "  'bathroom',\n",
       "  '.',\n",
       "  'Sandra',\n",
       "  'journeyed',\n",
       "  'to',\n",
       "  'the',\n",
       "  'bedroom',\n",
       "  '.'],\n",
       " ['Is', 'Sandra', 'in', 'the', 'hallway', '?'],\n",
       " 'no')"
      ]
     },
     "execution_count": 8,
     "metadata": {},
     "output_type": "execute_result"
    }
   ],
   "source": [
    "train_data[0]\n",
    "#its essentially a tuple containing lists and strings in which the first list represents the story, the second list represents a query and the third string corresponds to the answer to that query"
   ]
  },
  {
   "cell_type": "code",
   "execution_count": 9,
   "id": "0471d4ed",
   "metadata": {},
   "outputs": [
    {
     "name": "stdout",
     "output_type": "stream",
     "text": [
      "STORY: Mary moved to the bathroom . Sandra journeyed to the bedroom .\n",
      "QUERY: Is Sandra in the hallway ?\n",
      "ANSWER: no\n"
     ]
    }
   ],
   "source": [
    "print(f\"STORY: {' '.join(train_data[0][0])}\\nQUERY: {' '.join(train_data[0][1])}\\nANSWER: {train_data[0][2]}\")"
   ]
  },
  {
   "cell_type": "code",
   "execution_count": 10,
   "id": "5903f75b",
   "metadata": {},
   "outputs": [],
   "source": [
    "#creating a vocabulary using sets by performing a union operation among all the stories and questions to extract the distinct words. We will also manually add tyhe words no and yes to the set since those are the only classes in the answer column.\n",
    "all_data = train_data + test_data\n",
    "vocab = set()\n",
    "for story, query, answer in all_data:\n",
    "    vocab = vocab.union(story)\n",
    "    vocab = vocab.union(query)\n",
    "vocab.add('no')\n",
    "vocab.add('yes')"
   ]
  },
  {
   "cell_type": "code",
   "execution_count": 11,
   "id": "1ead1435",
   "metadata": {},
   "outputs": [
    {
     "name": "stdout",
     "output_type": "stream",
     "text": [
      "THE UNIQUE WORDS FROM THE DATASET THAT FORMS THE VOCABULARY ARE: \n",
      "\n",
      "no | John | kitchen | grabbed | Is | down | the | bathroom | Mary | travelled | took | got | there | in | garden | went | moved | yes | left | ? | put | Sandra | Daniel | picked | journeyed | back | office | to | . | dropped | football | discarded | hallway | apple | bedroom | milk | up\n"
     ]
    }
   ],
   "source": [
    "print(f\"THE UNIQUE WORDS FROM THE DATASET THAT FORMS THE VOCABULARY ARE: \\n\\n{' | '.join(vocab)}\")"
   ]
  },
  {
   "cell_type": "code",
   "execution_count": 12,
   "id": "a5ba8675",
   "metadata": {},
   "outputs": [
    {
     "data": {
      "text/plain": [
       "37"
      ]
     },
     "execution_count": 12,
     "metadata": {},
     "output_type": "execute_result"
    }
   ],
   "source": [
    "len(vocab)"
   ]
  },
  {
   "cell_type": "code",
   "execution_count": 13,
   "id": "09858ae0",
   "metadata": {},
   "outputs": [],
   "source": [
    "vocab_len = len(vocab) + 1"
   ]
  },
  {
   "cell_type": "code",
   "execution_count": 14,
   "id": "1d172c5e",
   "metadata": {},
   "outputs": [],
   "source": [
    "story_lengths = [len(data[0]) for data in all_data]"
   ]
  },
  {
   "cell_type": "code",
   "execution_count": 15,
   "id": "28e92fec",
   "metadata": {},
   "outputs": [],
   "source": [
    "query_lengths = [len(data[1]) for data in all_data]"
   ]
  },
  {
   "cell_type": "code",
   "execution_count": 16,
   "id": "468a4347",
   "metadata": {},
   "outputs": [
    {
     "data": {
      "text/plain": [
       "156"
      ]
     },
     "execution_count": 16,
     "metadata": {},
     "output_type": "execute_result"
    }
   ],
   "source": [
    "max_story_length = max(story_lengths)\n",
    "max_story_length"
   ]
  },
  {
   "cell_type": "code",
   "execution_count": 17,
   "id": "dfbff324",
   "metadata": {},
   "outputs": [
    {
     "data": {
      "text/plain": [
       "6"
      ]
     },
     "execution_count": 17,
     "metadata": {},
     "output_type": "execute_result"
    }
   ],
   "source": [
    "max_query_length = max(query_lengths)\n",
    "max_query_length"
   ]
  },
  {
   "cell_type": "code",
   "execution_count": 19,
   "id": "a30e8201",
   "metadata": {},
   "outputs": [],
   "source": [
    "from tensorflow.keras.preprocessing.text import Tokenizer\n",
    "from tensorflow.keras.preprocessing.sequence import pad_sequences"
   ]
  },
  {
   "cell_type": "code",
   "execution_count": 20,
   "id": "68e44911",
   "metadata": {},
   "outputs": [],
   "source": [
    "tokenizer = Tokenizer(filters=[])"
   ]
  },
  {
   "cell_type": "code",
   "execution_count": 21,
   "id": "6baff8c5",
   "metadata": {},
   "outputs": [],
   "source": [
    "tokenizer.fit_on_texts(vocab)"
   ]
  },
  {
   "cell_type": "code",
   "execution_count": 22,
   "id": "01a05b68",
   "metadata": {},
   "outputs": [
    {
     "data": {
      "text/plain": [
       "{1: 'no',\n",
       " 2: 'john',\n",
       " 3: 'kitchen',\n",
       " 4: 'grabbed',\n",
       " 5: 'is',\n",
       " 6: 'down',\n",
       " 7: 'the',\n",
       " 8: 'bathroom',\n",
       " 9: 'mary',\n",
       " 10: 'travelled',\n",
       " 11: 'took',\n",
       " 12: 'got',\n",
       " 13: 'there',\n",
       " 14: 'in',\n",
       " 15: 'garden',\n",
       " 16: 'went',\n",
       " 17: 'moved',\n",
       " 18: 'yes',\n",
       " 19: 'left',\n",
       " 20: '?',\n",
       " 21: 'put',\n",
       " 22: 'sandra',\n",
       " 23: 'daniel',\n",
       " 24: 'picked',\n",
       " 25: 'journeyed',\n",
       " 26: 'back',\n",
       " 27: 'office',\n",
       " 28: 'to',\n",
       " 29: '.',\n",
       " 30: 'dropped',\n",
       " 31: 'football',\n",
       " 32: 'discarded',\n",
       " 33: 'hallway',\n",
       " 34: 'apple',\n",
       " 35: 'bedroom',\n",
       " 36: 'milk',\n",
       " 37: 'up'}"
      ]
     },
     "execution_count": 22,
     "metadata": {},
     "output_type": "execute_result"
    }
   ],
   "source": [
    "tokenizer.index_word"
   ]
  },
  {
   "cell_type": "code",
   "execution_count": 23,
   "id": "848fba65",
   "metadata": {},
   "outputs": [
    {
     "data": {
      "text/plain": [
       "{'no': 1,\n",
       " 'john': 2,\n",
       " 'kitchen': 3,\n",
       " 'grabbed': 4,\n",
       " 'is': 5,\n",
       " 'down': 6,\n",
       " 'the': 7,\n",
       " 'bathroom': 8,\n",
       " 'mary': 9,\n",
       " 'travelled': 10,\n",
       " 'took': 11,\n",
       " 'got': 12,\n",
       " 'there': 13,\n",
       " 'in': 14,\n",
       " 'garden': 15,\n",
       " 'went': 16,\n",
       " 'moved': 17,\n",
       " 'yes': 18,\n",
       " 'left': 19,\n",
       " '?': 20,\n",
       " 'put': 21,\n",
       " 'sandra': 22,\n",
       " 'daniel': 23,\n",
       " 'picked': 24,\n",
       " 'journeyed': 25,\n",
       " 'back': 26,\n",
       " 'office': 27,\n",
       " 'to': 28,\n",
       " '.': 29,\n",
       " 'dropped': 30,\n",
       " 'football': 31,\n",
       " 'discarded': 32,\n",
       " 'hallway': 33,\n",
       " 'apple': 34,\n",
       " 'bedroom': 35,\n",
       " 'milk': 36,\n",
       " 'up': 37}"
      ]
     },
     "execution_count": 23,
     "metadata": {},
     "output_type": "execute_result"
    }
   ],
   "source": [
    "tokenizer.word_index"
   ]
  },
  {
   "cell_type": "code",
   "execution_count": 24,
   "id": "acdd7c23",
   "metadata": {},
   "outputs": [],
   "source": [
    "import numpy as np\n",
    "\n",
    "\n",
    "def vectorize(data, max_q_len = max_query_length, max_s_len = max_story_length, word_index = tokenizer.word_index):\n",
    "    #List for vectorized stories\n",
    "    vec_stories = []\n",
    "    \n",
    "    #List for vectorized queries\n",
    "    vec_queries = []\n",
    "    \n",
    "    #List for vectorized answers\n",
    "    vec_answers = []\n",
    "    \n",
    "    for st, qr, ans in data:\n",
    "        vs = [word_index[word.lower()] for word in st]\n",
    "        vq = [word_index[word.lower()] for word in qr]\n",
    "        answ = np.zeros(len(word_index) + 1)\n",
    "        answ[word_index[ans]] = 1\n",
    "        vec_stories.append(vs)\n",
    "        vec_queries.append(vq)\n",
    "        vec_answers.append(answ)\n",
    "    \n",
    "    return (pad_sequences(vec_stories, max_s_len), pad_sequences(vec_queries, max_q_len), (np.array(vec_answers)))"
   ]
  },
  {
   "cell_type": "code",
   "execution_count": 25,
   "id": "5465aab8",
   "metadata": {},
   "outputs": [],
   "source": [
    "vectorized_stories, vectorized_queries, vectorized_answers = vectorize(all_data)"
   ]
  },
  {
   "cell_type": "code",
   "execution_count": 26,
   "id": "51d1a8c5",
   "metadata": {},
   "outputs": [
    {
     "data": {
      "text/plain": [
       "array([[ 0,  0,  0, ...,  7, 35, 29],\n",
       "       [ 0,  0,  0, ...,  7, 33, 29],\n",
       "       [ 0,  0,  0, ...,  7,  8, 29],\n",
       "       ...,\n",
       "       [ 0,  0,  0, ...,  7, 34, 29],\n",
       "       [ 0,  0,  0, ...,  7, 15, 29],\n",
       "       [ 0,  0,  0, ..., 34, 13, 29]])"
      ]
     },
     "execution_count": 26,
     "metadata": {},
     "output_type": "execute_result"
    }
   ],
   "source": [
    "vectorized_stories"
   ]
  },
  {
   "cell_type": "code",
   "execution_count": 27,
   "id": "041291cf",
   "metadata": {},
   "outputs": [
    {
     "data": {
      "text/plain": [
       "array([[ 5, 22, 14,  7, 33, 20],\n",
       "       [ 5, 23, 14,  7,  8, 20],\n",
       "       [ 5, 23, 14,  7, 27, 20],\n",
       "       ...,\n",
       "       [ 5,  9, 14,  7, 35, 20],\n",
       "       [ 5, 22, 14,  7, 15, 20],\n",
       "       [ 5,  9, 14,  7, 15, 20]])"
      ]
     },
     "execution_count": 27,
     "metadata": {},
     "output_type": "execute_result"
    }
   ],
   "source": [
    "vectorized_queries"
   ]
  },
  {
   "cell_type": "code",
   "execution_count": 28,
   "id": "02c6baa5",
   "metadata": {},
   "outputs": [
    {
     "data": {
      "text/plain": [
       "array([[0., 1., 0., ..., 0., 0., 0.],\n",
       "       [0., 1., 0., ..., 0., 0., 0.],\n",
       "       [0., 1., 0., ..., 0., 0., 0.],\n",
       "       ...,\n",
       "       [0., 1., 0., ..., 0., 0., 0.],\n",
       "       [0., 0., 0., ..., 0., 0., 0.],\n",
       "       [0., 0., 0., ..., 0., 0., 0.]])"
      ]
     },
     "execution_count": 28,
     "metadata": {},
     "output_type": "execute_result"
    }
   ],
   "source": [
    "vectorized_answers"
   ]
  },
  {
   "cell_type": "code",
   "execution_count": 29,
   "id": "e554e721",
   "metadata": {},
   "outputs": [
    {
     "data": {
      "text/plain": [
       "array([   0., 5491.,    0.,    0.,    0.,    0.,    0.,    0.,    0.,\n",
       "          0.,    0.,    0.,    0.,    0.,    0.,    0.,    0.,    0.,\n",
       "       5509.,    0.,    0.,    0.,    0.,    0.,    0.,    0.,    0.,\n",
       "          0.,    0.,    0.,    0.,    0.,    0.,    0.,    0.,    0.,\n",
       "          0.,    0.])"
      ]
     },
     "execution_count": 29,
     "metadata": {},
     "output_type": "execute_result"
    }
   ],
   "source": [
    "sum(vectorized_answers)"
   ]
  },
  {
   "cell_type": "code",
   "execution_count": 34,
   "id": "47294161",
   "metadata": {},
   "outputs": [],
   "source": [
    "from tensorflow.keras.models import Sequential, Model\n",
    "from tensorflow.keras.layers import Input, Dense, Activation, Permute, Dropout, Embedding, add, dot, concatenate"
   ]
  },
  {
   "cell_type": "code",
   "execution_count": 35,
   "id": "507b7199",
   "metadata": {},
   "outputs": [],
   "source": [
    "input_seq = Input((max_story_length,))\n",
    "question = Input((max_query_length,)) "
   ]
  },
  {
   "cell_type": "code",
   "execution_count": 36,
   "id": "7bb4cf62",
   "metadata": {},
   "outputs": [
    {
     "data": {
      "text/plain": [
       "38"
      ]
     },
     "execution_count": 36,
     "metadata": {},
     "output_type": "execute_result"
    }
   ],
   "source": [
    "vocab_len"
   ]
  },
  {
   "cell_type": "code",
   "execution_count": 39,
   "id": "4afbcefe",
   "metadata": {},
   "outputs": [],
   "source": [
    "input_encoder_m = Sequential()\n",
    "input_encoder_m.add(Embedding(input_dim = vocab_len, output_dim = 64))\n",
    "input_encoder_m.add(Dropout(0.36))"
   ]
  },
  {
   "cell_type": "code",
   "execution_count": 40,
   "id": "a40cd713",
   "metadata": {},
   "outputs": [],
   "source": [
    "input_encoder_c = Sequential()\n",
    "input_encoder_c.add(Embedding(input_dim = vocab_len, output_dim = max_query_length))\n",
    "input_encoder_c.add(Dropout(0.36))"
   ]
  },
  {
   "cell_type": "code",
   "execution_count": 42,
   "id": "967ef3e9",
   "metadata": {},
   "outputs": [],
   "source": [
    "query_encoder_u = Sequential()\n",
    "query_encoder_u.add(Embedding(input_dim = vocab_len, output_dim = 64, input_length = max_query_length))\n",
    "query_encoder_u.add(Dropout(0.36))"
   ]
  },
  {
   "cell_type": "code",
   "execution_count": 43,
   "id": "4982966f",
   "metadata": {},
   "outputs": [],
   "source": [
    "input_encoded_m = input_encoder_m(input_seq)\n",
    "input_encoded_c = input_encoder_c(input_seq)\n",
    "query_encoded = query_encoder_u(question)"
   ]
  },
  {
   "cell_type": "code",
   "execution_count": 44,
   "id": "dd36a828",
   "metadata": {},
   "outputs": [],
   "source": [
    "match = dot([input_encoded_m, query_encoded], axes = (2,2))\n",
    "match = Activation('softmax')(match)"
   ]
  },
  {
   "cell_type": "code",
   "execution_count": 47,
   "id": "e1e39b8b",
   "metadata": {},
   "outputs": [
    {
     "data": {
      "text/plain": [
       "<KerasTensor: shape=(None, 156, 6) dtype=float32 (created by layer 'activation')>"
      ]
     },
     "execution_count": 47,
     "metadata": {},
     "output_type": "execute_result"
    }
   ],
   "source": [
    "match"
   ]
  },
  {
   "cell_type": "code",
   "execution_count": 45,
   "id": "74e2302f",
   "metadata": {},
   "outputs": [],
   "source": [
    "response = add([match, input_encoded_c])\n",
    "response = Permute((2,1))(response)"
   ]
  },
  {
   "cell_type": "code",
   "execution_count": 46,
   "id": "f283f911",
   "metadata": {},
   "outputs": [
    {
     "data": {
      "text/plain": [
       "<KerasTensor: shape=(None, 6, 156) dtype=float32 (created by layer 'permute')>"
      ]
     },
     "execution_count": 46,
     "metadata": {},
     "output_type": "execute_result"
    }
   ],
   "source": [
    "response"
   ]
  },
  {
   "cell_type": "code",
   "execution_count": 52,
   "id": "b0c8897b",
   "metadata": {},
   "outputs": [],
   "source": [
    "answer = concatenate([response, query_encoded])"
   ]
  },
  {
   "cell_type": "code",
   "execution_count": 53,
   "id": "691c381a",
   "metadata": {},
   "outputs": [
    {
     "data": {
      "text/plain": [
       "<KerasTensor: shape=(None, 6, 220) dtype=float32 (created by layer 'concatenate')>"
      ]
     },
     "execution_count": 53,
     "metadata": {},
     "output_type": "execute_result"
    }
   ],
   "source": [
    "answer"
   ]
  },
  {
   "cell_type": "code",
   "execution_count": 55,
   "id": "17d108ec",
   "metadata": {},
   "outputs": [],
   "source": [
    "from tensorflow.keras.layers import LSTM\n",
    "answer = LSTM(32)(answer)"
   ]
  },
  {
   "cell_type": "code",
   "execution_count": 57,
   "id": "e10f7366",
   "metadata": {},
   "outputs": [],
   "source": [
    "answer = Dropout(0.5)(answer)\n",
    "answer = Dense(vocab_len)(answer)\n",
    "answer = Activation('softmax')(answer)"
   ]
  },
  {
   "cell_type": "code",
   "execution_count": 59,
   "id": "d7eec722",
   "metadata": {},
   "outputs": [],
   "source": [
    "model = Model([input_seq, question], answer)"
   ]
  },
  {
   "cell_type": "code",
   "execution_count": 64,
   "id": "b9a14564",
   "metadata": {},
   "outputs": [],
   "source": [
    "model.compile(optimizer = 'rmsprop', loss = 'categorical_crossentropy', metrics = ['accuracy'])"
   ]
  },
  {
   "cell_type": "code",
   "execution_count": 65,
   "id": "70d752bf",
   "metadata": {},
   "outputs": [
    {
     "name": "stdout",
     "output_type": "stream",
     "text": [
      "Model: \"model_1\"\n",
      "__________________________________________________________________________________________________\n",
      " Layer (type)                   Output Shape         Param #     Connected to                     \n",
      "==================================================================================================\n",
      " input_1 (InputLayer)           [(None, 156)]        0           []                               \n",
      "                                                                                                  \n",
      " input_2 (InputLayer)           [(None, 6)]          0           []                               \n",
      "                                                                                                  \n",
      " sequential_2 (Sequential)      (None, None, 64)     2432        ['input_1[0][0]']                \n",
      "                                                                                                  \n",
      " sequential_5 (Sequential)      (None, 6, 64)        2432        ['input_2[0][0]']                \n",
      "                                                                                                  \n",
      " dot (Dot)                      (None, 156, 6)       0           ['sequential_2[0][0]',           \n",
      "                                                                  'sequential_5[0][0]']           \n",
      "                                                                                                  \n",
      " activation (Activation)        (None, 156, 6)       0           ['dot[0][0]']                    \n",
      "                                                                                                  \n",
      " sequential_3 (Sequential)      (None, None, 6)      228         ['input_1[0][0]']                \n",
      "                                                                                                  \n",
      " add (Add)                      (None, 156, 6)       0           ['activation[0][0]',             \n",
      "                                                                  'sequential_3[0][0]']           \n",
      "                                                                                                  \n",
      " permute (Permute)              (None, 6, 156)       0           ['add[0][0]']                    \n",
      "                                                                                                  \n",
      " concatenate (Concatenate)      (None, 6, 220)       0           ['permute[0][0]',                \n",
      "                                                                  'sequential_5[0][0]']           \n",
      "                                                                                                  \n",
      " lstm (LSTM)                    (None, 32)           32384       ['concatenate[0][0]']            \n",
      "                                                                                                  \n",
      " dropout_3 (Dropout)            (None, 32)           0           ['lstm[0][0]']                   \n",
      "                                                                                                  \n",
      " dense (Dense)                  (None, 38)           1254        ['dropout_3[0][0]']              \n",
      "                                                                                                  \n",
      " activation_1 (Activation)      (None, 38)           0           ['dense[0][0]']                  \n",
      "                                                                                                  \n",
      " dropout_4 (Dropout)            (None, 38)           0           ['activation_1[0][0]']           \n",
      "                                                                                                  \n",
      " dense_1 (Dense)                (None, 38)           1482        ['dropout_4[0][0]']              \n",
      "                                                                                                  \n",
      " activation_2 (Activation)      (None, 38)           0           ['dense_1[0][0]']                \n",
      "                                                                                                  \n",
      "==================================================================================================\n",
      "Total params: 40,212\n",
      "Trainable params: 40,212\n",
      "Non-trainable params: 0\n",
      "__________________________________________________________________________________________________\n"
     ]
    }
   ],
   "source": [
    "model.summary()"
   ]
  },
  {
   "cell_type": "code",
   "execution_count": 66,
   "id": "91573a72",
   "metadata": {},
   "outputs": [],
   "source": [
    "input_train, queries_train, answers_train = vectorize(train_data)"
   ]
  },
  {
   "cell_type": "code",
   "execution_count": 67,
   "id": "af8e7490",
   "metadata": {},
   "outputs": [],
   "source": [
    "input_test, queries_test, answers_test = vectorize(test_data)"
   ]
  },
  {
   "cell_type": "code",
   "execution_count": 77,
   "id": "cc0d7cb3",
   "metadata": {},
   "outputs": [
    {
     "ename": "ImportError",
     "evalue": "DLL load failed while importing _multiarray_umath: The specified module could not be found.",
     "output_type": "error",
     "traceback": [
      "\u001b[1;31m---------------------------------------------------------------------------\u001b[0m",
      "\u001b[1;31mImportError\u001b[0m                               Traceback (most recent call last)",
      "\u001b[1;31mImportError\u001b[0m: DLL load failed while importing _multiarray_umath: The specified module could not be found."
     ]
    },
    {
     "ename": "ImportError",
     "evalue": "DLL load failed while importing _multiarray_umath: The specified module could not be found.",
     "output_type": "error",
     "traceback": [
      "\u001b[1;31m---------------------------------------------------------------------------\u001b[0m",
      "\u001b[1;31mImportError\u001b[0m                               Traceback (most recent call last)",
      "\u001b[1;31mImportError\u001b[0m: DLL load failed while importing _multiarray_umath: The specified module could not be found."
     ]
    },
    {
     "ename": "ImportError",
     "evalue": "DLL load failed while importing _multiarray_umath: The specified module could not be found.",
     "output_type": "error",
     "traceback": [
      "\u001b[1;31m---------------------------------------------------------------------------\u001b[0m",
      "\u001b[1;31mImportError\u001b[0m                               Traceback (most recent call last)",
      "\u001b[1;31mImportError\u001b[0m: DLL load failed while importing _multiarray_umath: The specified module could not be found."
     ]
    },
    {
     "ename": "ImportError",
     "evalue": "DLL load failed while importing _multiarray_umath: The specified module could not be found.",
     "output_type": "error",
     "traceback": [
      "\u001b[1;31m---------------------------------------------------------------------------\u001b[0m",
      "\u001b[1;31mImportError\u001b[0m                               Traceback (most recent call last)",
      "\u001b[1;31mImportError\u001b[0m: DLL load failed while importing _multiarray_umath: The specified module could not be found."
     ]
    },
    {
     "name": "stdout",
     "output_type": "stream",
     "text": [
      "Epoch 1/100\n",
      "312/313 [============================>.] - ETA: 0s - loss: 0.6933 - accuracy: 0.5021"
     ]
    },
    {
     "ename": "ImportError",
     "evalue": "DLL load failed while importing _multiarray_umath: The specified module could not be found.",
     "output_type": "error",
     "traceback": [
      "\u001b[1;31m---------------------------------------------------------------------------\u001b[0m",
      "\u001b[1;31mImportError\u001b[0m                               Traceback (most recent call last)",
      "\u001b[1;31mImportError\u001b[0m: DLL load failed while importing _multiarray_umath: The specified module could not be found."
     ]
    },
    {
     "ename": "ImportError",
     "evalue": "DLL load failed while importing _multiarray_umath: The specified module could not be found.",
     "output_type": "error",
     "traceback": [
      "\u001b[1;31m---------------------------------------------------------------------------\u001b[0m",
      "\u001b[1;31mImportError\u001b[0m                               Traceback (most recent call last)",
      "\u001b[1;31mImportError\u001b[0m: DLL load failed while importing _multiarray_umath: The specified module could not be found."
     ]
    },
    {
     "ename": "ImportError",
     "evalue": "DLL load failed while importing _multiarray_umath: The specified module could not be found.",
     "output_type": "error",
     "traceback": [
      "\u001b[1;31m---------------------------------------------------------------------------\u001b[0m",
      "\u001b[1;31mImportError\u001b[0m                               Traceback (most recent call last)",
      "\u001b[1;31mImportError\u001b[0m: DLL load failed while importing _multiarray_umath: The specified module could not be found."
     ]
    },
    {
     "ename": "ImportError",
     "evalue": "DLL load failed while importing _multiarray_umath: The specified module could not be found.",
     "output_type": "error",
     "traceback": [
      "\u001b[1;31m---------------------------------------------------------------------------\u001b[0m",
      "\u001b[1;31mImportError\u001b[0m                               Traceback (most recent call last)",
      "\u001b[1;31mImportError\u001b[0m: DLL load failed while importing _multiarray_umath: The specified module could not be found."
     ]
    },
    {
     "name": "stdout",
     "output_type": "stream",
     "text": [
      "313/313 [==============================] - 5s 15ms/step - loss: 0.6933 - accuracy: 0.5016 - val_loss: 0.6933 - val_accuracy: 0.4950\n",
      "Epoch 2/100\n",
      "313/313 [==============================] - 4s 14ms/step - loss: 0.6932 - accuracy: 0.5084 - val_loss: 0.6933 - val_accuracy: 0.5030\n",
      "Epoch 3/100\n",
      "313/313 [==============================] - 4s 14ms/step - loss: 0.6935 - accuracy: 0.4951 - val_loss: 0.6935 - val_accuracy: 0.4930\n",
      "Epoch 4/100\n",
      "313/313 [==============================] - 4s 14ms/step - loss: 0.6931 - accuracy: 0.5093 - val_loss: 0.6936 - val_accuracy: 0.4930\n",
      "Epoch 5/100\n",
      "313/313 [==============================] - 4s 14ms/step - loss: 0.6931 - accuracy: 0.5067 - val_loss: 0.6938 - val_accuracy: 0.4950\n",
      "Epoch 6/100\n",
      "313/313 [==============================] - 4s 14ms/step - loss: 0.6935 - accuracy: 0.5048 - val_loss: 0.6940 - val_accuracy: 0.5060\n",
      "Epoch 7/100\n",
      "313/313 [==============================] - 5s 15ms/step - loss: 0.6932 - accuracy: 0.5076 - val_loss: 0.6935 - val_accuracy: 0.5000\n",
      "Epoch 8/100\n",
      "313/313 [==============================] - 5s 15ms/step - loss: 0.6929 - accuracy: 0.5164 - val_loss: 0.6929 - val_accuracy: 0.4940\n",
      "Epoch 9/100\n",
      "313/313 [==============================] - 5s 14ms/step - loss: 0.6924 - accuracy: 0.5128 - val_loss: 0.6930 - val_accuracy: 0.5070\n",
      "Epoch 10/100\n",
      "313/313 [==============================] - 5s 15ms/step - loss: 0.6917 - accuracy: 0.5194 - val_loss: 0.6899 - val_accuracy: 0.5390\n",
      "Epoch 11/100\n",
      "313/313 [==============================] - 5s 14ms/step - loss: 0.6896 - accuracy: 0.5303 - val_loss: 0.6870 - val_accuracy: 0.5430\n",
      "Epoch 12/100\n",
      "313/313 [==============================] - 5s 15ms/step - loss: 0.6858 - accuracy: 0.5444 - val_loss: 0.6799 - val_accuracy: 0.5630\n",
      "Epoch 13/100\n",
      "313/313 [==============================] - 5s 14ms/step - loss: 0.6793 - accuracy: 0.5655 - val_loss: 0.6766 - val_accuracy: 0.5690\n",
      "Epoch 14/100\n",
      "313/313 [==============================] - 5s 15ms/step - loss: 0.6772 - accuracy: 0.5696 - val_loss: 0.6692 - val_accuracy: 0.5880\n",
      "Epoch 15/100\n",
      "313/313 [==============================] - 5s 15ms/step - loss: 0.6733 - accuracy: 0.5758 - val_loss: 0.6646 - val_accuracy: 0.5840\n",
      "Epoch 16/100\n",
      "313/313 [==============================] - 5s 16ms/step - loss: 0.6653 - accuracy: 0.5971 - val_loss: 0.6658 - val_accuracy: 0.6210\n",
      "Epoch 17/100\n",
      "313/313 [==============================] - 5s 15ms/step - loss: 0.6592 - accuracy: 0.6050 - val_loss: 0.6497 - val_accuracy: 0.6420\n",
      "Epoch 18/100\n",
      "313/313 [==============================] - 5s 15ms/step - loss: 0.6516 - accuracy: 0.6082 - val_loss: 0.6366 - val_accuracy: 0.6570\n",
      "Epoch 19/100\n",
      "313/313 [==============================] - 5s 15ms/step - loss: 0.6459 - accuracy: 0.6205 - val_loss: 0.6379 - val_accuracy: 0.6540\n",
      "Epoch 20/100\n",
      "313/313 [==============================] - 5s 15ms/step - loss: 0.6402 - accuracy: 0.6242 - val_loss: 0.6273 - val_accuracy: 0.6750\n",
      "Epoch 21/100\n",
      "313/313 [==============================] - 5s 15ms/step - loss: 0.6346 - accuracy: 0.6334 - val_loss: 0.6207 - val_accuracy: 0.6870\n",
      "Epoch 22/100\n",
      "313/313 [==============================] - 5s 15ms/step - loss: 0.6318 - accuracy: 0.6322 - val_loss: 0.6197 - val_accuracy: 0.6850\n",
      "Epoch 23/100\n",
      "313/313 [==============================] - 5s 14ms/step - loss: 0.6331 - accuracy: 0.6250 - val_loss: 0.6152 - val_accuracy: 0.6880\n",
      "Epoch 24/100\n",
      "313/313 [==============================] - 4s 14ms/step - loss: 0.6234 - accuracy: 0.6412 - val_loss: 0.6140 - val_accuracy: 0.6880\n",
      "Epoch 25/100\n",
      "313/313 [==============================] - 5s 14ms/step - loss: 0.6209 - accuracy: 0.6417 - val_loss: 0.6141 - val_accuracy: 0.6810\n",
      "Epoch 26/100\n",
      "313/313 [==============================] - 5s 14ms/step - loss: 0.6157 - accuracy: 0.6496 - val_loss: 0.6146 - val_accuracy: 0.6650\n",
      "Epoch 27/100\n",
      "313/313 [==============================] - 5s 14ms/step - loss: 0.6096 - accuracy: 0.6568 - val_loss: 0.6017 - val_accuracy: 0.6880\n",
      "Epoch 28/100\n",
      "313/313 [==============================] - 5s 15ms/step - loss: 0.6058 - accuracy: 0.6631 - val_loss: 0.5865 - val_accuracy: 0.7140\n",
      "Epoch 29/100\n",
      "313/313 [==============================] - 5s 14ms/step - loss: 0.5970 - accuracy: 0.6697 - val_loss: 0.5744 - val_accuracy: 0.7360\n",
      "Epoch 30/100\n",
      "313/313 [==============================] - 5s 15ms/step - loss: 0.5958 - accuracy: 0.6683 - val_loss: 0.5690 - val_accuracy: 0.7330\n",
      "Epoch 31/100\n",
      "313/313 [==============================] - 5s 14ms/step - loss: 0.5859 - accuracy: 0.6783 - val_loss: 0.5729 - val_accuracy: 0.7290\n",
      "Epoch 32/100\n",
      "313/313 [==============================] - 5s 15ms/step - loss: 0.5859 - accuracy: 0.6793 - val_loss: 0.5603 - val_accuracy: 0.7390\n",
      "Epoch 33/100\n",
      "313/313 [==============================] - 5s 15ms/step - loss: 0.5809 - accuracy: 0.6831 - val_loss: 0.5549 - val_accuracy: 0.7370\n",
      "Epoch 34/100\n",
      "313/313 [==============================] - 5s 15ms/step - loss: 0.5761 - accuracy: 0.6864 - val_loss: 0.5459 - val_accuracy: 0.7520\n",
      "Epoch 35/100\n",
      "313/313 [==============================] - 5s 15ms/step - loss: 0.5755 - accuracy: 0.6793 - val_loss: 0.5414 - val_accuracy: 0.7450\n",
      "Epoch 36/100\n",
      "313/313 [==============================] - 5s 16ms/step - loss: 0.5674 - accuracy: 0.6925 - val_loss: 0.5531 - val_accuracy: 0.7320\n",
      "Epoch 37/100\n",
      "313/313 [==============================] - 5s 16ms/step - loss: 0.5665 - accuracy: 0.6975 - val_loss: 0.5439 - val_accuracy: 0.7390\n",
      "Epoch 38/100\n",
      "313/313 [==============================] - 5s 15ms/step - loss: 0.5547 - accuracy: 0.7008 - val_loss: 0.5460 - val_accuracy: 0.7320\n",
      "Epoch 39/100\n",
      "313/313 [==============================] - 5s 15ms/step - loss: 0.5572 - accuracy: 0.6957 - val_loss: 0.5197 - val_accuracy: 0.7660\n",
      "Epoch 40/100\n",
      "313/313 [==============================] - 5s 15ms/step - loss: 0.5511 - accuracy: 0.7058 - val_loss: 0.5303 - val_accuracy: 0.7490\n",
      "Epoch 41/100\n",
      "313/313 [==============================] - 5s 16ms/step - loss: 0.5437 - accuracy: 0.7091 - val_loss: 0.5117 - val_accuracy: 0.7670\n",
      "Epoch 42/100\n",
      "313/313 [==============================] - 5s 15ms/step - loss: 0.5456 - accuracy: 0.7089 - val_loss: 0.5085 - val_accuracy: 0.7650\n",
      "Epoch 43/100\n",
      "313/313 [==============================] - 5s 16ms/step - loss: 0.5423 - accuracy: 0.7077 - val_loss: 0.5255 - val_accuracy: 0.7550\n",
      "Epoch 44/100\n",
      "313/313 [==============================] - 5s 16ms/step - loss: 0.5344 - accuracy: 0.7152 - val_loss: 0.4946 - val_accuracy: 0.7780\n",
      "Epoch 45/100\n",
      "313/313 [==============================] - 5s 15ms/step - loss: 0.5321 - accuracy: 0.7084 - val_loss: 0.4928 - val_accuracy: 0.7770\n",
      "Epoch 46/100\n",
      "313/313 [==============================] - 5s 16ms/step - loss: 0.5277 - accuracy: 0.7140 - val_loss: 0.4894 - val_accuracy: 0.7810\n",
      "Epoch 47/100\n",
      "313/313 [==============================] - 5s 16ms/step - loss: 0.5166 - accuracy: 0.7240 - val_loss: 0.4832 - val_accuracy: 0.7740\n",
      "Epoch 48/100\n",
      "313/313 [==============================] - 5s 16ms/step - loss: 0.5060 - accuracy: 0.7293 - val_loss: 0.4738 - val_accuracy: 0.7900\n",
      "Epoch 49/100\n",
      "313/313 [==============================] - 5s 16ms/step - loss: 0.5031 - accuracy: 0.7286 - val_loss: 0.4765 - val_accuracy: 0.7920\n",
      "Epoch 50/100\n",
      "313/313 [==============================] - 5s 16ms/step - loss: 0.4982 - accuracy: 0.7383 - val_loss: 0.4616 - val_accuracy: 0.7890\n",
      "Epoch 51/100\n",
      "313/313 [==============================] - 5s 15ms/step - loss: 0.4874 - accuracy: 0.7426 - val_loss: 0.4469 - val_accuracy: 0.8090\n",
      "Epoch 52/100\n",
      "313/313 [==============================] - 5s 16ms/step - loss: 0.4770 - accuracy: 0.7491 - val_loss: 0.4548 - val_accuracy: 0.7990\n",
      "Epoch 53/100\n",
      "313/313 [==============================] - 5s 16ms/step - loss: 0.4780 - accuracy: 0.7561 - val_loss: 0.4527 - val_accuracy: 0.8060\n",
      "Epoch 54/100\n",
      "313/313 [==============================] - 5s 16ms/step - loss: 0.4740 - accuracy: 0.7933 - val_loss: 0.4378 - val_accuracy: 0.8130\n",
      "Epoch 55/100\n",
      "313/313 [==============================] - 5s 16ms/step - loss: 0.4650 - accuracy: 0.7853 - val_loss: 0.4294 - val_accuracy: 0.8160\n",
      "Epoch 56/100\n",
      "313/313 [==============================] - 5s 16ms/step - loss: 0.4528 - accuracy: 0.8114 - val_loss: 0.4235 - val_accuracy: 0.8200\n",
      "Epoch 57/100\n",
      "313/313 [==============================] - 5s 15ms/step - loss: 0.4407 - accuracy: 0.8166 - val_loss: 0.4392 - val_accuracy: 0.8160\n",
      "Epoch 58/100\n",
      "313/313 [==============================] - 5s 14ms/step - loss: 0.4351 - accuracy: 0.8184 - val_loss: 0.4204 - val_accuracy: 0.8160\n",
      "Epoch 59/100\n",
      "313/313 [==============================] - 5s 14ms/step - loss: 0.4341 - accuracy: 0.8255 - val_loss: 0.4166 - val_accuracy: 0.8210\n",
      "Epoch 60/100\n",
      "313/313 [==============================] - 5s 15ms/step - loss: 0.4292 - accuracy: 0.8270 - val_loss: 0.4234 - val_accuracy: 0.8160\n",
      "Epoch 61/100\n",
      "313/313 [==============================] - 5s 15ms/step - loss: 0.4246 - accuracy: 0.8273 - val_loss: 0.4228 - val_accuracy: 0.8110\n",
      "Epoch 62/100\n",
      "313/313 [==============================] - 5s 14ms/step - loss: 0.4237 - accuracy: 0.8298 - val_loss: 0.4366 - val_accuracy: 0.8140\n",
      "Epoch 63/100\n",
      "313/313 [==============================] - 5s 15ms/step - loss: 0.4202 - accuracy: 0.8334 - val_loss: 0.4163 - val_accuracy: 0.8160\n",
      "Epoch 64/100\n",
      "313/313 [==============================] - 5s 14ms/step - loss: 0.4186 - accuracy: 0.8326 - val_loss: 0.4128 - val_accuracy: 0.8120\n",
      "Epoch 65/100\n",
      "313/313 [==============================] - 5s 14ms/step - loss: 0.4123 - accuracy: 0.8310 - val_loss: 0.4015 - val_accuracy: 0.8240\n",
      "Epoch 66/100\n",
      "313/313 [==============================] - 5s 14ms/step - loss: 0.4094 - accuracy: 0.8378 - val_loss: 0.4055 - val_accuracy: 0.8200\n",
      "Epoch 67/100\n",
      "313/313 [==============================] - 5s 15ms/step - loss: 0.4048 - accuracy: 0.8387 - val_loss: 0.3983 - val_accuracy: 0.8220\n",
      "Epoch 68/100\n",
      "313/313 [==============================] - 5s 14ms/step - loss: 0.3966 - accuracy: 0.8382 - val_loss: 0.4005 - val_accuracy: 0.8310\n",
      "Epoch 69/100\n",
      "313/313 [==============================] - 5s 15ms/step - loss: 0.3881 - accuracy: 0.8403 - val_loss: 0.4064 - val_accuracy: 0.8250\n",
      "Epoch 70/100\n",
      "313/313 [==============================] - 5s 14ms/step - loss: 0.3917 - accuracy: 0.8452 - val_loss: 0.3950 - val_accuracy: 0.8150\n",
      "Epoch 71/100\n",
      "313/313 [==============================] - 5s 15ms/step - loss: 0.3829 - accuracy: 0.8477 - val_loss: 0.3955 - val_accuracy: 0.8250\n",
      "Epoch 72/100\n",
      "313/313 [==============================] - 5s 15ms/step - loss: 0.3885 - accuracy: 0.8435 - val_loss: 0.3931 - val_accuracy: 0.8170\n",
      "Epoch 73/100\n",
      "313/313 [==============================] - 5s 15ms/step - loss: 0.3824 - accuracy: 0.8489 - val_loss: 0.3859 - val_accuracy: 0.8190\n",
      "Epoch 74/100\n",
      "313/313 [==============================] - 5s 15ms/step - loss: 0.3783 - accuracy: 0.8476 - val_loss: 0.3987 - val_accuracy: 0.8210\n",
      "Epoch 75/100\n",
      "313/313 [==============================] - 5s 15ms/step - loss: 0.3760 - accuracy: 0.8470 - val_loss: 0.3851 - val_accuracy: 0.8230\n",
      "Epoch 76/100\n",
      "313/313 [==============================] - 5s 15ms/step - loss: 0.3698 - accuracy: 0.8532 - val_loss: 0.3831 - val_accuracy: 0.8270\n",
      "Epoch 77/100\n",
      "313/313 [==============================] - 5s 15ms/step - loss: 0.3661 - accuracy: 0.8525 - val_loss: 0.3865 - val_accuracy: 0.8250\n",
      "Epoch 78/100\n",
      "313/313 [==============================] - 5s 15ms/step - loss: 0.3665 - accuracy: 0.8538 - val_loss: 0.3808 - val_accuracy: 0.8230\n",
      "Epoch 79/100\n",
      "313/313 [==============================] - 5s 15ms/step - loss: 0.3637 - accuracy: 0.8539 - val_loss: 0.3733 - val_accuracy: 0.8330\n",
      "Epoch 80/100\n",
      "313/313 [==============================] - 5s 15ms/step - loss: 0.3570 - accuracy: 0.8537 - val_loss: 0.3706 - val_accuracy: 0.8300\n",
      "Epoch 81/100\n",
      "313/313 [==============================] - 5s 15ms/step - loss: 0.3556 - accuracy: 0.8549 - val_loss: 0.3812 - val_accuracy: 0.8280\n",
      "Epoch 82/100\n",
      "313/313 [==============================] - 5s 15ms/step - loss: 0.3503 - accuracy: 0.8550 - val_loss: 0.3802 - val_accuracy: 0.8190\n",
      "Epoch 83/100\n",
      "313/313 [==============================] - 5s 15ms/step - loss: 0.3478 - accuracy: 0.8529 - val_loss: 0.3688 - val_accuracy: 0.8290\n",
      "Epoch 84/100\n",
      "313/313 [==============================] - 5s 15ms/step - loss: 0.3508 - accuracy: 0.8555 - val_loss: 0.3766 - val_accuracy: 0.8310\n",
      "Epoch 85/100\n",
      "313/313 [==============================] - 5s 15ms/step - loss: 0.3428 - accuracy: 0.8573 - val_loss: 0.3784 - val_accuracy: 0.8270\n",
      "Epoch 86/100\n",
      "313/313 [==============================] - 5s 15ms/step - loss: 0.3382 - accuracy: 0.8612 - val_loss: 0.3691 - val_accuracy: 0.8240\n",
      "Epoch 87/100\n",
      "313/313 [==============================] - 5s 15ms/step - loss: 0.3366 - accuracy: 0.8610 - val_loss: 0.3577 - val_accuracy: 0.8310\n",
      "Epoch 88/100\n",
      "313/313 [==============================] - 5s 15ms/step - loss: 0.3381 - accuracy: 0.8625 - val_loss: 0.3957 - val_accuracy: 0.8160\n",
      "Epoch 89/100\n",
      "313/313 [==============================] - 5s 15ms/step - loss: 0.3328 - accuracy: 0.8660 - val_loss: 0.3851 - val_accuracy: 0.8240\n",
      "Epoch 90/100\n",
      "313/313 [==============================] - 5s 15ms/step - loss: 0.3304 - accuracy: 0.8631 - val_loss: 0.3878 - val_accuracy: 0.8210\n",
      "Epoch 91/100\n",
      "313/313 [==============================] - 5s 15ms/step - loss: 0.3326 - accuracy: 0.8636 - val_loss: 0.3931 - val_accuracy: 0.8260\n",
      "Epoch 92/100\n",
      "313/313 [==============================] - 5s 16ms/step - loss: 0.3319 - accuracy: 0.8656 - val_loss: 0.3682 - val_accuracy: 0.8190\n",
      "Epoch 93/100\n",
      "313/313 [==============================] - 5s 15ms/step - loss: 0.3307 - accuracy: 0.8691 - val_loss: 0.3572 - val_accuracy: 0.8310\n",
      "Epoch 94/100\n",
      "313/313 [==============================] - 5s 15ms/step - loss: 0.3330 - accuracy: 0.8622 - val_loss: 0.3648 - val_accuracy: 0.8300\n",
      "Epoch 95/100\n",
      "313/313 [==============================] - 5s 15ms/step - loss: 0.3237 - accuracy: 0.8653 - val_loss: 0.3689 - val_accuracy: 0.8310\n",
      "Epoch 96/100\n",
      "313/313 [==============================] - 5s 15ms/step - loss: 0.3118 - accuracy: 0.8743 - val_loss: 0.3554 - val_accuracy: 0.8290\n",
      "Epoch 97/100\n",
      "313/313 [==============================] - 5s 15ms/step - loss: 0.3191 - accuracy: 0.8690 - val_loss: 0.3770 - val_accuracy: 0.8220\n",
      "Epoch 98/100\n",
      "313/313 [==============================] - 5s 15ms/step - loss: 0.3200 - accuracy: 0.8693 - val_loss: 0.3596 - val_accuracy: 0.8310\n",
      "Epoch 99/100\n",
      "313/313 [==============================] - 5s 15ms/step - loss: 0.3229 - accuracy: 0.8686 - val_loss: 0.3907 - val_accuracy: 0.8260\n",
      "Epoch 100/100\n",
      "313/313 [==============================] - 5s 15ms/step - loss: 0.3187 - accuracy: 0.8668 - val_loss: 0.3665 - val_accuracy: 0.8280\n"
     ]
    }
   ],
   "source": [
    "history = model.fit([input_train, queries_train], answers_train, batch_size = 32, epochs = 100, validation_data = ([input_test, queries_test], answers_test))"
   ]
  },
  {
   "cell_type": "code",
   "execution_count": 81,
   "id": "ad5a9ee8",
   "metadata": {},
   "outputs": [
    {
     "ename": "ImportError",
     "evalue": "DLL load failed while importing _multiarray_umath: The specified module could not be found.",
     "output_type": "error",
     "traceback": [
      "\u001b[1;31m---------------------------------------------------------------------------\u001b[0m",
      "\u001b[1;31mImportError\u001b[0m                               Traceback (most recent call last)",
      "\u001b[1;31mImportError\u001b[0m: DLL load failed while importing _multiarray_umath: The specified module could not be found."
     ]
    },
    {
     "ename": "ImportError",
     "evalue": "DLL load failed while importing _multiarray_umath: The specified module could not be found.",
     "output_type": "error",
     "traceback": [
      "\u001b[1;31m---------------------------------------------------------------------------\u001b[0m",
      "\u001b[1;31mImportError\u001b[0m                               Traceback (most recent call last)",
      "\u001b[1;31mImportError\u001b[0m: DLL load failed while importing _multiarray_umath: The specified module could not be found."
     ]
    },
    {
     "ename": "ImportError",
     "evalue": "DLL load failed while importing _multiarray_umath: The specified module could not be found.",
     "output_type": "error",
     "traceback": [
      "\u001b[1;31m---------------------------------------------------------------------------\u001b[0m",
      "\u001b[1;31mImportError\u001b[0m                               Traceback (most recent call last)",
      "\u001b[1;31mImportError\u001b[0m: DLL load failed while importing _multiarray_umath: The specified module could not be found."
     ]
    },
    {
     "ename": "ImportError",
     "evalue": "DLL load failed while importing _multiarray_umath: The specified module could not be found.",
     "output_type": "error",
     "traceback": [
      "\u001b[1;31m---------------------------------------------------------------------------\u001b[0m",
      "\u001b[1;31mImportError\u001b[0m                               Traceback (most recent call last)",
      "\u001b[1;31mImportError\u001b[0m: DLL load failed while importing _multiarray_umath: The specified module could not be found."
     ]
    },
    {
     "name": "stdout",
     "output_type": "stream",
     "text": [
      "32/32 [==============================] - 1s 4ms/step\n"
     ]
    }
   ],
   "source": [
    "res = model.predict([input_test, queries_test])"
   ]
  },
  {
   "cell_type": "code",
   "execution_count": 93,
   "id": "60472a4c",
   "metadata": {},
   "outputs": [
    {
     "name": "stdout",
     "output_type": "stream",
     "text": [
      "STORY: Daniel went back to the kitchen . Mary grabbed the apple there .\n",
      "QUERY: Is Daniel in the office ?\n",
      "TRUE ANSWER: no\n",
      "\n",
      "\n",
      "PREDICTED ANSWER: no\n",
      "CERTAINITY: 99.6999979019165%\n"
     ]
    }
   ],
   "source": [
    "print(f\"STORY: {' '.join(test_data[5][0])}\\nQUERY: {' '.join(test_data[5][1])}\\nTRUE ANSWER: {test_data[5][2]}\")\n",
    "print('\\n')\n",
    "\n",
    "max_val = np.argmax(res[5])\n",
    "for key, val in tokenizer.word_index.items():\n",
    "    if val == max_val:\n",
    "        k = key\n",
    "        break\n",
    "print(f\"PREDICTED ANSWER: {k}\\nCERTAINITY: {np.round(res[0][max_val],3)*100}%\")"
   ]
  },
  {
   "cell_type": "code",
   "execution_count": null,
   "id": "c558444e",
   "metadata": {},
   "outputs": [],
   "source": []
  }
 ],
 "metadata": {
  "kernelspec": {
   "display_name": "Python 3 (ipykernel)",
   "language": "python",
   "name": "python3"
  },
  "language_info": {
   "codemirror_mode": {
    "name": "ipython",
    "version": 3
   },
   "file_extension": ".py",
   "mimetype": "text/x-python",
   "name": "python",
   "nbconvert_exporter": "python",
   "pygments_lexer": "ipython3",
   "version": "3.9.13"
  }
 },
 "nbformat": 4,
 "nbformat_minor": 5
}
